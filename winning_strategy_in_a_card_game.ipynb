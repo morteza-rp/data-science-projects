{
 "cells": [
  {
   "cell_type": "markdown",
   "metadata": {},
   "source": [
    "Computing probabilities using Python"
   ]
  },
  {
   "cell_type": "code",
   "execution_count": 4,
   "metadata": {},
   "outputs": [],
   "source": [
    "# Creating a sample space of coin flips\n",
    "sample_space = {'Heads', 'Tails'}\n",
    "\n",
    "# Computing the probability of heads\n",
    "probability_heads = 1 / len(sample_space)\n",
    "\n",
    "# Defining event conditions\n",
    "def is_heads_or_tails(outcome): return outcome in {'Heads', 'Tails'}\n",
    "def is_neither(outcome): return outcome not in {'Heads', 'Tails'}\n",
    "def is_heads(outcome): return outcome == 'Heads'\n",
    "def is_tails(outcome): return outcome == 'Tails'"
   ]
  },
  {
   "cell_type": "code",
   "execution_count": 5,
   "metadata": {},
   "outputs": [
    {
     "name": "stdout",
     "output_type": "stream",
     "text": [
      "Event Condition: is_heads_or_tails\n",
      "Event: {'Tails', 'Heads'}\n",
      "\n",
      "Event Condition: is_heads\n",
      "Event: {'Heads'}\n",
      "\n",
      "Event Condition: is_tails\n",
      "Event: {'Tails'}\n",
      "\n",
      "Event Condition: is_neither\n",
      "Event: set()\n",
      "\n"
     ]
    }
   ],
   "source": [
    "# Defining an event-detection function\n",
    "def get_matching_event(event_condition, sample_space):\n",
    "    return set([outcome for outcome in sample_space if event_condition(outcome)])\n",
    "\n",
    "event_conditions = [is_heads_or_tails, is_heads, is_tails, is_neither]\n",
    "\n",
    "for event_condition in event_conditions:\n",
    "    print(f\"Event Condition: {event_condition.__name__}\")\n",
    "    event = get_matching_event(event_condition, sample_space)\n",
    "    print(f'Event: {event}\\n')"
   ]
  },
  {
   "cell_type": "code",
   "execution_count": 6,
   "metadata": {},
   "outputs": [
    {
     "name": "stdout",
     "output_type": "stream",
     "text": [
      "Probability of event arising from 'is_heads_or_tails' is 1.0\n",
      "Probability of event arising from 'is_heads' is 0.5\n",
      "Probability of event arising from 'is_tails' is 0.5\n",
      "Probability of event arising from 'is_neither' is 0.0\n"
     ]
    }
   ],
   "source": [
    "# Computing event probabilities\n",
    "def compute_probability(event_condition, generic_sample_space):\n",
    "    event = get_matching_event(event_condition, generic_sample_space)\n",
    "    return len(event) / len(generic_sample_space)\n",
    "\n",
    "for event_condition in event_conditions:\n",
    "    prob = compute_probability(event_condition, sample_space)\n",
    "    name = event_condition.__name__\n",
    "    print(f\"Probability of event arising from '{name}' is {prob}\")"
   ]
  },
  {
   "cell_type": "code",
   "execution_count": 7,
   "metadata": {},
   "outputs": [
    {
     "name": "stdout",
     "output_type": "stream",
     "text": [
      "Probability of event arising from 'is_heads_or_tails' is 1.0\n",
      "Probability of event arising from 'is_heads' is 0.8\n",
      "Probability of event arising from 'is_tails' is 0.2\n",
      "Probability of event arising from 'is_neither' is 0.0\n"
     ]
    }
   ],
   "source": [
    "# What would happen if that coin was biased?\n",
    "# Analyzing a biased coin\n",
    "weighted_sample_space = {'Heads': 4, 'Tails': 1}\n",
    "\n",
    "# Checking the weighted sample space size\n",
    "sample_space_size = sum(weighted_sample_space.values())\n",
    "\n",
    "# Checking the weighted event size\n",
    "event = get_matching_event(is_heads_or_tails, weighted_sample_space)\n",
    "event_size = sum(weighted_sample_space[outcome] for outcome in event)\n",
    "assert event_size == 5\n",
    "\n",
    "\n",
    "\n",
    "# Defining a generalized event probability function\n",
    "def compute_event_probability(event_condition, generic_sample_space):\n",
    "    event = get_matching_event(event_condition, generic_sample_space)\n",
    "\n",
    "    # if is not biased\n",
    "    if type(generic_sample_space) == type(set()):\n",
    "        return len(event) / len(generic_sample_space)\n",
    "    \n",
    "    # if is biased(weighted sample)\n",
    "    event_size = sum(generic_sample_space[outcome] for outcome in event)\n",
    "    return event_size / sum(generic_sample_space.values())\n",
    "\n",
    "\n",
    "\n",
    "for event_condition in event_conditions:\n",
    "    prob = compute_event_probability(event_condition, weighted_sample_space)\n",
    "    name = event_condition.__name__\n",
    "    print(f\"Probability of event arising from '{name}' is {prob}\")"
   ]
  },
  {
   "cell_type": "markdown",
   "metadata": {},
   "source": [
    "**Computing nontrivial probabilities**  \n",
    "We’ll now solve several example problems using compute_event_probability."
   ]
  },
  {
   "cell_type": "code",
   "execution_count": 18,
   "metadata": {},
   "outputs": [
    {
     "name": "stdout",
     "output_type": "stream",
     "text": [
      "Probability of 2 boys is 0.375\n"
     ]
    }
   ],
   "source": [
    "# Problem 1: Analyzing a family with four children\n",
    "# Suppose a family has four children. What is the probability that exactly two of the children are boys?\n",
    "from itertools import product\n",
    "\n",
    "possible_children = ['Boy', 'Girl']\n",
    "all_combinations = set(product(possible_children, repeat=4))\n",
    "\n",
    "def has_two_boys(outcome): return len([child for child in outcome if child == 'Boy']) == 2\n",
    "\n",
    "prob = compute_event_probability(event_condition= has_two_boys, generic_sample_space= all_combinations)\n",
    "print(f\"Probability of 2 boys is {prob}\")"
   ]
  },
  {
   "cell_type": "code",
   "execution_count": 21,
   "metadata": {},
   "outputs": [
    {
     "name": "stdout",
     "output_type": "stream",
     "text": [
      "6 rolls sum to 21 with a probability of 0.09284979423868313\n"
     ]
    }
   ],
   "source": [
    "# Problem 2: Analyzing multiple die rolls\n",
    "# Suppose we’re shown a fair six-sided die whose faces are numbered from 1 to 6. The die is rolled six times. What is the probability that these six die rolls add up to 21?\n",
    "from itertools import product\n",
    "\n",
    "possible_rolls = [1,2,3,4,5,6]\n",
    "die_all_combinations = set(product(possible_rolls, repeat=6))\n",
    "\n",
    "prob = compute_event_probability(lambda x: sum(x) == 21, die_all_combinations)\n",
    "print(f\"6 rolls sum to 21 with a probability of {prob}\")"
   ]
  },
  {
   "cell_type": "code",
   "execution_count": 70,
   "metadata": {},
   "outputs": [
    {
     "name": "stdout",
     "output_type": "stream",
     "text": [
      "There are 4332 ways for 6 die rolls to sum to 21\n",
      "6 rolls sum to 21 with a probability of 0.09284979423868313 \n",
      "\n",
      "Number of Elements in Unweighted Sample Space:\n",
      "46656\n",
      "Number of Elements in Weighted Sample Space:\n",
      "31\n"
     ]
    }
   ],
   "source": [
    "# Problem 3: Computing die-roll probabilities using weighted sample spaces\n",
    "# we must count the number of times each sum appears across all possible die-roll combinations. \n",
    "from collections import defaultdict\n",
    "\n",
    "weighted_sample_space = defaultdict(int)\n",
    "for outcome in die_all_combinations:\n",
    "    total = sum(outcome)\n",
    "    weighted_sample_space[total] += 1\n",
    "\n",
    "num_combinations = weighted_sample_space[21]\n",
    "print(f\"There are {num_combinations } ways for 6 die rolls to sum to 21\")\n",
    "\n",
    "# Computing the weighted event probability of die rolls\n",
    "prob = compute_event_probability(lambda x: x == 21, weighted_sample_space)\n",
    "print(f\"6 rolls sum to 21 with a probability of {prob} \\n\")\n",
    "\n",
    "# What is the benefit of using a weighted sample space over an unweighted one? Less memory usage!\n",
    "# Comparing weighted to unweighted event space size\n",
    "print('Number of Elements in Unweighted Sample Space:')\n",
    "print(len(die_all_combinations))\n",
    "print('Number of Elements in Weighted Sample Space:')\n",
    "print(len(weighted_sample_space))"
   ]
  },
  {
   "cell_type": "markdown",
   "metadata": {},
   "source": [
    "**Computing probabilities over interval ranges**  \n"
   ]
  },
  {
   "cell_type": "code",
   "execution_count": 73,
   "metadata": {},
   "outputs": [
    {
     "name": "stdout",
     "output_type": "stream",
     "text": [
      "Probability of interval is 0.5446244855967078\n"
     ]
    }
   ],
   "source": [
    "def is_in_interval(number, minimum, maximum):\n",
    "    return minimum <= number <= maximum\n",
    "\n",
    "prob = compute_event_probability(lambda x: is_in_interval(x, 10, 21), weighted_sample_space)\n",
    "print(f\"Probability of interval is {prob}\")"
   ]
  },
  {
   "cell_type": "code",
   "execution_count": 99,
   "metadata": {},
   "outputs": [
    {
     "name": "stdout",
     "output_type": "stream",
     "text": [
      "Probability of observing more than 7 heads is 0.0546875\n",
      "Probability of observing more than 7 heads or 7 tails is 0.109375\n",
      "Probability of observing more than 15 heads or 15 tails is 0.01181793212890625\n"
     ]
    }
   ],
   "source": [
    "def generate_coin_sample_space(num_flips=10):\n",
    "    weighted_sample_space = defaultdict(int)\n",
    "    for coin_flips in product(['Heads', 'Tails'], repeat=num_flips):\n",
    "        heads_count = len([outcome for outcome in coin_flips if outcome == 'Heads'])\n",
    "        weighted_sample_space[heads_count] += 1\n",
    "    return weighted_sample_space\n",
    "\n",
    "weighted_sample_space = generate_coin_sample_space()\n",
    "assert weighted_sample_space[10] == 1\n",
    "assert weighted_sample_space[9] == 10\n",
    "\n",
    "# Computing an extreme head-count probability\n",
    "prob = compute_event_probability(lambda x: is_in_interval(x, 8, 10), weighted_sample_space)\n",
    "print(f\"Probability of observing more than 7 heads is {prob}\")\n",
    "\n",
    "# Computing an extreme interval probability\n",
    "prob = compute_event_probability(lambda x: not is_in_interval(x, 3, 7), weighted_sample_space)\n",
    "print(f\"Probability of observing more than 7 heads or 7 tails is {prob}\")\n",
    "\n",
    "# Analyzing extreme head counts for 20 fair coin flips\n",
    "weighted_sample_space_20_flips = generate_coin_sample_space(num_flips=20)\n",
    "prob = compute_event_probability(lambda x: not is_in_interval(x, 5, 15), weighted_sample_space_20_flips)\n",
    "print(f\"Probability of observing more than 15 heads or 15 tails is {prob}\")"
   ]
  }
 ],
 "metadata": {
  "kernelspec": {
   "display_name": "Python 3",
   "language": "python",
   "name": "python3"
  },
  "language_info": {
   "codemirror_mode": {
    "name": "ipython",
    "version": 3
   },
   "file_extension": ".py",
   "mimetype": "text/x-python",
   "name": "python",
   "nbconvert_exporter": "python",
   "pygments_lexer": "ipython3",
   "version": "3.9.6"
  }
 },
 "nbformat": 4,
 "nbformat_minor": 2
}
