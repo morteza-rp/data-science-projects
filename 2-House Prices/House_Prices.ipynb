{
 "cells": [
  {
   "cell_type": "code",
   "execution_count": 173,
   "metadata": {},
   "outputs": [],
   "source": [
    "import numpy as np\n",
    "import pandas as pd\n",
    "import matplotlib.pyplot as plt\n",
    "import seaborn as sns\n",
    "import sklearn\n",
    "from sklearn import feature_extraction\n",
    "from sklearn import model_selection\n"
   ]
  },
  {
   "cell_type": "code",
   "execution_count": 174,
   "metadata": {},
   "outputs": [],
   "source": [
    "df = pd.read_csv(r\"E:\\github\\data science projects\\2-House Prices\\train.csv\", )\n",
    "test = pd.read_csv(r\"E:\\github\\data science projects\\2-House Prices\\test.csv\")\n",
    "\n",
    "data = df.copy(deep=True)\n",
    "combine_data = [data, test]\n"
   ]
  },
  {
   "cell_type": "code",
   "execution_count": 175,
   "metadata": {},
   "outputs": [
    {
     "name": "stdout",
     "output_type": "stream",
     "text": [
      "Identifies the type of dwelling involved in the sale.\n"
     ]
    }
   ],
   "source": [
    "def data_description(file_dest: str, feature_name: str):\n",
    "    try:\n",
    "        import json\n",
    "        dict1 = {}\n",
    "        with open(file_dest, 'r') as f:\n",
    "            for line in f:\n",
    "                if line.strip().split(maxsplit=1):\n",
    "                    s = line.strip().split(maxsplit=1)\n",
    "                    dict1[s[0]] = s[1]\n",
    "        print(dict1[feature_name.strip()])\n",
    "    except KeyError:\n",
    "       return None\n",
    "\n",
    "\n",
    "\n",
    "file_dest = r\"E:\\github\\data science projects\\2-House Prices\\data_description1.txt\"\n",
    "data_description(file_dest, feature_name='MSSubClass')"
   ]
  },
  {
   "cell_type": "code",
   "execution_count": 176,
   "metadata": {},
   "outputs": [
    {
     "name": "stdout",
     "output_type": "stream",
     "text": [
      "null in data:\n",
      "percentage of null in   Alley:  0.938\n",
      "percentage of null in   PoolQC:  0.995\n",
      "percentage of null in   Fence:  0.808\n",
      "percentage of null in   MiscFeature:  0.963\n",
      "\n",
      "null in test:\n",
      "percentage of null in   Alley:  0.927\n",
      "percentage of null in   PoolQC:  0.998\n",
      "percentage of null in   Fence:  0.801\n",
      "percentage of null in   MiscFeature:  0.965\n"
     ]
    }
   ],
   "source": [
    "def null_count(data, threshold=0.5):\n",
    "    for i in data.columns:\n",
    "        if data[i].isnull().mean() != 0 and data[i].isnull().mean()> threshold:\n",
    "            print(f\"percentage of null in   {i}:  {data[i].isnull().mean() :.3f}\")\n",
    "            # print(f\"number of null in   {i}:  {data[i].isnull().sum() :.3f} of {data.shape[0]}\",'\\n')\n",
    "\n",
    "\n",
    "print('null in data:')\n",
    "null_count(data, 0.7)\n",
    "print('\\nnull in test:')\n",
    "null_count(test, 0.7)"
   ]
  },
  {
   "cell_type": "code",
   "execution_count": 177,
   "metadata": {},
   "outputs": [],
   "source": [
    "drop_columns = [\"Alley\", \"PoolQC\", \"Fence\", \"MiscFeature\"]\n",
    "\n",
    "for d in combine_data:\n",
    "    d.drop(drop_columns, axis=1, inplace=True)\n"
   ]
  },
  {
   "cell_type": "code",
   "execution_count": null,
   "metadata": {},
   "outputs": [],
   "source": []
  }
 ],
 "metadata": {
  "kernelspec": {
   "display_name": "venv7",
   "language": "python",
   "name": "python3"
  },
  "language_info": {
   "codemirror_mode": {
    "name": "ipython",
    "version": 3
   },
   "file_extension": ".py",
   "mimetype": "text/x-python",
   "name": "python",
   "nbconvert_exporter": "python",
   "pygments_lexer": "ipython3",
   "version": "3.9.6"
  }
 },
 "nbformat": 4,
 "nbformat_minor": 2
}
